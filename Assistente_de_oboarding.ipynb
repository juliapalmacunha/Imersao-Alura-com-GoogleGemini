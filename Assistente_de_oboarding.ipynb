{
  "nbformat": 4,
  "nbformat_minor": 0,
  "metadata": {
    "colab": {
      "provenance": [],
      "include_colab_link": true
    },
    "kernelspec": {
      "name": "python3",
      "display_name": "Python 3"
    },
    "language_info": {
      "name": "python"
    }
  },
  "cells": [
    {
      "cell_type": "markdown",
      "metadata": {
        "id": "view-in-github",
        "colab_type": "text"
      },
      "source": [
        "<a href=\"https://colab.research.google.com/github/juliapalmacunha/Imersao-Alura-com-GoogleGemini/blob/main/Assistente_de_oboarding.ipynb\" target=\"_parent\"><img src=\"https://colab.research.google.com/assets/colab-badge.svg\" alt=\"Open In Colab\"/></a>"
      ]
    },
    {
      "cell_type": "code",
      "source": [
        "%pip -q install google-genai"
      ],
      "metadata": {
        "id": "UCCbECexLk_h"
      },
      "execution_count": null,
      "outputs": []
    },
    {
      "cell_type": "code",
      "source": [
        "# Instalar a biblioteca PyMuPDF (fitz)\n",
        "!pip install pymupdf --quiet\n",
        "\n",
        "from google.colab import files\n",
        "import fitz  # PyMuPDF\n",
        "\n",
        "# Upload do arquivo PDF\n",
        "uploaded = files.upload()  # Vai abrir a janela para upload\n",
        "\n",
        "pdf_filename = \"ONBOARDING-TESTE.pdf\"\n",
        "\n",
        "if pdf_filename in uploaded:\n",
        "    # Abrir o PDF\n",
        "    doc = fitz.open(pdf_filename)\n",
        "    onboarding_text = \"\"\n",
        "\n",
        "    # Extrair texto de todas as páginas\n",
        "    for page in doc:\n",
        "        onboarding_text += page.get_text()\n",
        "\n",
        "    doc.close()\n",
        "    print(\"Arquivo PDF carregado e texto extraído com sucesso!\")\n",
        "    print(\"Aqui está uma prévia dos primeiros 1000 caracteres:\\n\")\n",
        "    print(onboarding_text[:2000])\n",
        "else:\n",
        "    print(f\"Arquivo {pdf_filename} não encontrado no upload. Verifique o nome exato do arquivo.\")\n"
      ],
      "metadata": {
        "colab": {
          "base_uri": "https://localhost:8080/",
          "height": 836
        },
        "id": "G8SeHcZbDD3y",
        "outputId": "3acf0d3a-d132-41da-a221-cc9ffadb196d"
      },
      "execution_count": null,
      "outputs": [
        {
          "output_type": "display_data",
          "data": {
            "text/plain": [
              "<IPython.core.display.HTML object>"
            ],
            "text/html": [
              "\n",
              "     <input type=\"file\" id=\"files-c63b9e5b-9872-42fd-b914-fefe9ccfad76\" name=\"files[]\" multiple disabled\n",
              "        style=\"border:none\" />\n",
              "     <output id=\"result-c63b9e5b-9872-42fd-b914-fefe9ccfad76\">\n",
              "      Upload widget is only available when the cell has been executed in the\n",
              "      current browser session. Please rerun this cell to enable.\n",
              "      </output>\n",
              "      <script>// Copyright 2017 Google LLC\n",
              "//\n",
              "// Licensed under the Apache License, Version 2.0 (the \"License\");\n",
              "// you may not use this file except in compliance with the License.\n",
              "// You may obtain a copy of the License at\n",
              "//\n",
              "//      http://www.apache.org/licenses/LICENSE-2.0\n",
              "//\n",
              "// Unless required by applicable law or agreed to in writing, software\n",
              "// distributed under the License is distributed on an \"AS IS\" BASIS,\n",
              "// WITHOUT WARRANTIES OR CONDITIONS OF ANY KIND, either express or implied.\n",
              "// See the License for the specific language governing permissions and\n",
              "// limitations under the License.\n",
              "\n",
              "/**\n",
              " * @fileoverview Helpers for google.colab Python module.\n",
              " */\n",
              "(function(scope) {\n",
              "function span(text, styleAttributes = {}) {\n",
              "  const element = document.createElement('span');\n",
              "  element.textContent = text;\n",
              "  for (const key of Object.keys(styleAttributes)) {\n",
              "    element.style[key] = styleAttributes[key];\n",
              "  }\n",
              "  return element;\n",
              "}\n",
              "\n",
              "// Max number of bytes which will be uploaded at a time.\n",
              "const MAX_PAYLOAD_SIZE = 100 * 1024;\n",
              "\n",
              "function _uploadFiles(inputId, outputId) {\n",
              "  const steps = uploadFilesStep(inputId, outputId);\n",
              "  const outputElement = document.getElementById(outputId);\n",
              "  // Cache steps on the outputElement to make it available for the next call\n",
              "  // to uploadFilesContinue from Python.\n",
              "  outputElement.steps = steps;\n",
              "\n",
              "  return _uploadFilesContinue(outputId);\n",
              "}\n",
              "\n",
              "// This is roughly an async generator (not supported in the browser yet),\n",
              "// where there are multiple asynchronous steps and the Python side is going\n",
              "// to poll for completion of each step.\n",
              "// This uses a Promise to block the python side on completion of each step,\n",
              "// then passes the result of the previous step as the input to the next step.\n",
              "function _uploadFilesContinue(outputId) {\n",
              "  const outputElement = document.getElementById(outputId);\n",
              "  const steps = outputElement.steps;\n",
              "\n",
              "  const next = steps.next(outputElement.lastPromiseValue);\n",
              "  return Promise.resolve(next.value.promise).then((value) => {\n",
              "    // Cache the last promise value to make it available to the next\n",
              "    // step of the generator.\n",
              "    outputElement.lastPromiseValue = value;\n",
              "    return next.value.response;\n",
              "  });\n",
              "}\n",
              "\n",
              "/**\n",
              " * Generator function which is called between each async step of the upload\n",
              " * process.\n",
              " * @param {string} inputId Element ID of the input file picker element.\n",
              " * @param {string} outputId Element ID of the output display.\n",
              " * @return {!Iterable<!Object>} Iterable of next steps.\n",
              " */\n",
              "function* uploadFilesStep(inputId, outputId) {\n",
              "  const inputElement = document.getElementById(inputId);\n",
              "  inputElement.disabled = false;\n",
              "\n",
              "  const outputElement = document.getElementById(outputId);\n",
              "  outputElement.innerHTML = '';\n",
              "\n",
              "  const pickedPromise = new Promise((resolve) => {\n",
              "    inputElement.addEventListener('change', (e) => {\n",
              "      resolve(e.target.files);\n",
              "    });\n",
              "  });\n",
              "\n",
              "  const cancel = document.createElement('button');\n",
              "  inputElement.parentElement.appendChild(cancel);\n",
              "  cancel.textContent = 'Cancel upload';\n",
              "  const cancelPromise = new Promise((resolve) => {\n",
              "    cancel.onclick = () => {\n",
              "      resolve(null);\n",
              "    };\n",
              "  });\n",
              "\n",
              "  // Wait for the user to pick the files.\n",
              "  const files = yield {\n",
              "    promise: Promise.race([pickedPromise, cancelPromise]),\n",
              "    response: {\n",
              "      action: 'starting',\n",
              "    }\n",
              "  };\n",
              "\n",
              "  cancel.remove();\n",
              "\n",
              "  // Disable the input element since further picks are not allowed.\n",
              "  inputElement.disabled = true;\n",
              "\n",
              "  if (!files) {\n",
              "    return {\n",
              "      response: {\n",
              "        action: 'complete',\n",
              "      }\n",
              "    };\n",
              "  }\n",
              "\n",
              "  for (const file of files) {\n",
              "    const li = document.createElement('li');\n",
              "    li.append(span(file.name, {fontWeight: 'bold'}));\n",
              "    li.append(span(\n",
              "        `(${file.type || 'n/a'}) - ${file.size} bytes, ` +\n",
              "        `last modified: ${\n",
              "            file.lastModifiedDate ? file.lastModifiedDate.toLocaleDateString() :\n",
              "                                    'n/a'} - `));\n",
              "    const percent = span('0% done');\n",
              "    li.appendChild(percent);\n",
              "\n",
              "    outputElement.appendChild(li);\n",
              "\n",
              "    const fileDataPromise = new Promise((resolve) => {\n",
              "      const reader = new FileReader();\n",
              "      reader.onload = (e) => {\n",
              "        resolve(e.target.result);\n",
              "      };\n",
              "      reader.readAsArrayBuffer(file);\n",
              "    });\n",
              "    // Wait for the data to be ready.\n",
              "    let fileData = yield {\n",
              "      promise: fileDataPromise,\n",
              "      response: {\n",
              "        action: 'continue',\n",
              "      }\n",
              "    };\n",
              "\n",
              "    // Use a chunked sending to avoid message size limits. See b/62115660.\n",
              "    let position = 0;\n",
              "    do {\n",
              "      const length = Math.min(fileData.byteLength - position, MAX_PAYLOAD_SIZE);\n",
              "      const chunk = new Uint8Array(fileData, position, length);\n",
              "      position += length;\n",
              "\n",
              "      const base64 = btoa(String.fromCharCode.apply(null, chunk));\n",
              "      yield {\n",
              "        response: {\n",
              "          action: 'append',\n",
              "          file: file.name,\n",
              "          data: base64,\n",
              "        },\n",
              "      };\n",
              "\n",
              "      let percentDone = fileData.byteLength === 0 ?\n",
              "          100 :\n",
              "          Math.round((position / fileData.byteLength) * 100);\n",
              "      percent.textContent = `${percentDone}% done`;\n",
              "\n",
              "    } while (position < fileData.byteLength);\n",
              "  }\n",
              "\n",
              "  // All done.\n",
              "  yield {\n",
              "    response: {\n",
              "      action: 'complete',\n",
              "    }\n",
              "  };\n",
              "}\n",
              "\n",
              "scope.google = scope.google || {};\n",
              "scope.google.colab = scope.google.colab || {};\n",
              "scope.google.colab._files = {\n",
              "  _uploadFiles,\n",
              "  _uploadFilesContinue,\n",
              "};\n",
              "})(self);\n",
              "</script> "
            ]
          },
          "metadata": {}
        },
        {
          "output_type": "stream",
          "name": "stdout",
          "text": [
            "Saving ONBOARDING-TESTE.pdf to ONBOARDING-TESTE.pdf\n",
            "Arquivo PDF carregado e texto extraído com sucesso!\n",
            "Aqui está uma prévia dos primeiros 1000 caracteres:\n",
            "\n",
            "🏢 Visão Geral da Empresa \n",
            "Nome: TechNova Setor: Tecnologia (SaaS para gestão de times e produtos) Missão: \n",
            "Transformar a forma como times colaboram, através de tecnologia acessível e centrada no \n",
            "usuário. Valores: Iniciativa, Transparência, Autonomia, Aprendizado Contínuo. \n",
            " \n",
            "⚖️ Informativos Gerais \n",
            "●​ Horário de trabalho: Segunda a sexta, das 09h às 18h (1h de intervalo para \n",
            "almoço). \n",
            "●​ Modelo de trabalho: Híbrido (3 dias presenciais + 2 dias remotos por semana). \n",
            "●​ Dress code: Casual (sem roupas excessivamente informais ou chinelos). \n",
            " \n",
            "📄 Processo de Recrutamento e Integração \n",
            "●​ Instrutora de onboarding: Mariana Azevedo (mariana@technova.com.br) \n",
            "●​ Contato inicial: E-mail com cronograma + link para documentos e acessos. \n",
            "●​ Primeira semana: \n",
            "○​ Dia 1: Tour pela empresa, ativação de acessos, encontro com o time \n",
            "○​ Dias 2-5: Treinamentos, shadowing, rituais leves \n",
            " \n",
            "🚀 Detalhes Práticos e Logísticos \n",
            "Infraestrutura (Modelo Híbrido) \n",
            "●​ Solicitação de equipamentos: Via portal interno (link no e-mail de boas-vindas). \n",
            "●​ Problemas técnicos: Contatar TI pelo Slack #suporte-ti ou \n",
            "suporte@technova.com.br \n",
            "●​ VPN: Acesso via Cisco Secure Client (tutorial no Notion) \n",
            "●​ Reserva de estações: Sistema DeskNow (link no Notion) \n",
            "●​ Ergonomia: Guia de ergonomia enviado junto ao kit de boas-vindas \n",
            "Acessos e Permissões \n",
            "●​ Solicitação de acessos: Formulário interno (Acessos TechNova) \n",
            "●​ Aprovação: Gestor direto + TI \n",
            "●​ Prazos médios: 24h para ferramentas comuns (Gmail, Notion), 72h para acessos \n",
            "técnicos \n",
            "●​ Erro de acesso: Reportar para #suporte-ti ou suporte@technova.com.br \n",
            "Recursos de Escritório \n",
            "●​ Refeitório/Copa: 2º andar. Micro-ondas, cafeteiras, geladeira. \n",
            "●​ Estacionamento: Gratuito, vagas rotativas (sujeito a disponibilidade) \n",
            "●​ Materiais de escritório: Solicitar para facilities@technova.com.br \n",
            "●​ Salas de reunião: Reservar via Google Calendar (perfis com permissão de edição) \n",
            "Suporte de TI \n",
            "●​ Canais: \n",
            "○​ Slack: #suporte-ti \n",
            "○​ E-mail: suporte@technova.com.\n"
          ]
        }
      ]
    },
    {
      "cell_type": "code",
      "source": [],
      "metadata": {
        "colab": {
          "base_uri": "https://localhost:8080/"
        },
        "id": "N_orLoGbgq7e",
        "outputId": "df297f7b-4865-4c69-ef9a-126b54990929"
      },
      "execution_count": null,
      "outputs": [
        {
          "output_type": "stream",
          "name": "stdout",
          "text": [
            "sample_data\n"
          ]
        }
      ]
    },
    {
      "cell_type": "code",
      "source": [
        "# Configura a API Key do Google Gemini\n",
        "\n",
        "import os\n",
        "from google.colab import userdata\n",
        "\n",
        "os.environ[\"GOOGLE_API_KEY\"] = userdata.get('GOOGLE_API_KEY')"
      ],
      "metadata": {
        "id": "NfCqHo1tLk8P"
      },
      "execution_count": null,
      "outputs": []
    },
    {
      "cell_type": "code",
      "source": [
        "# Configura o cliente da SDK do Gemini\n",
        "\n",
        "from google import genai\n",
        "\n",
        "client = genai.Client()\n",
        "\n",
        "MODEL_ID = \"gemini-2.0-flash\""
      ],
      "metadata": {
        "id": "bV4w0H5TLk5g"
      },
      "execution_count": null,
      "outputs": []
    },
    {
      "cell_type": "code",
      "source": [
        "# Pergunta ao Gemini uma informação mais recente que seu conhecimento\n",
        "\n",
        "from IPython.display import HTML, Markdown\n",
        "\n",
        "# Perguntar pro modelo quando é a próxima imersão de IA ###############################################\n",
        "resposta = client.models.generate_content(\n",
        "    model = MODEL_ID,\n",
        "    contents= \"Qual as principais dificuldades que novos funcnionarios de empresas de medio e grande porte encontram durante o processo de onboarding?\"\n",
        ")\n",
        "\n",
        "# Exibe a resposta na tela\n",
        "display(Markdown(f\"Resposta:\\n {resposta.text}\"))"
      ],
      "metadata": {
        "id": "HwVP7Xi34Zuw",
        "colab": {
          "base_uri": "https://localhost:8080/",
          "height": 692
        },
        "outputId": "4c66e967-8eed-4e20-dfdf-65f5d8546333"
      },
      "execution_count": null,
      "outputs": [
        {
          "output_type": "display_data",
          "data": {
            "text/plain": [
              "<IPython.core.display.Markdown object>"
            ],
            "text/markdown": "Resposta:\n O processo de onboarding em empresas de médio e grande porte pode apresentar diversas dificuldades para novos funcionários. Algumas das principais são:\n\n**1. Excesso de Informação e Sobrecarga:**\n\n*   **Volume de informações:** Receber uma avalanche de informações sobre a empresa, cultura, processos, sistemas e ferramentas pode ser esmagador.\n*   **Dificuldade em priorizar:** Identificar o que é mais importante e urgente para começar a trabalhar pode ser desafiador.\n*   **Falta de tempo para assimilação:** A pressão para começar a produzir rapidamente pode impedir que o novo funcionário processe e internalize as informações.\n\n**2. Falta de Clareza e Orientação:**\n\n*   **Expectativas pouco claras:** Não entender completamente o que se espera do novo funcionário em termos de responsabilidades, metas e desempenho.\n*   **Funções e responsabilidades mal definidas:** Confusão sobre quem faz o quê e como as diferentes áreas se interligam.\n*   **Falta de um plano de onboarding estruturado:** A ausência de um cronograma claro e atividades definidas pode deixar o novo funcionário perdido.\n\n**3. Integração Social e Cultural:**\n\n*   **Isolamento:** Sentir-se isolado ou excluído da equipe e da cultura da empresa.\n*   **Dificuldade em construir relacionamentos:** A dificuldade em se conectar com os colegas e construir uma rede de apoio dentro da empresa.\n*   **Entender a cultura da empresa:** Dificuldade em compreender os valores, normas e práticas informais da organização.\n\n**4. Processos Burocráticos e Sistemas Complexos:**\n\n*   **Documentação excessiva:** Lidar com formulários, contratos e outros documentos burocráticos pode ser demorado e frustrante.\n*   **Sistemas complexos:** Aprender a usar sistemas e softwares internos pode ser complicado e exigir tempo.\n*   **Falta de suporte técnico:** Dificuldade em obter ajuda para resolver problemas técnicos ou acessar os sistemas necessários.\n\n**5. Falta de Feedback e Acompanhamento:**\n\n*   **Pouco feedback:** Não receber feedback regular sobre o desempenho e progresso.\n*   **Falta de acompanhamento:** A ausência de um mentor ou responsável para orientar e responder a dúvidas.\n*   **Dificuldade em encontrar ajuda:** Não saber a quem recorrer para obter suporte e orientação.\n\n**6. Expectativas Irrealistas:**\n\n*   **Promessas não cumpridas:** Expectativas criadas durante o processo de recrutamento que não se concretizam na prática.\n*   **Carga de trabalho excessiva:** Receber muitas tarefas e responsabilidades logo no início, sem o treinamento e suporte adequados.\n\n**7. Problemas de Comunicação:**\n\n*   **Comunicação ineficaz:** Falta de comunicação clara e transparente por parte da empresa.\n*   **Dificuldade em entender a linguagem interna:** O uso de jargões e termos técnicos desconhecidos pode dificultar a compreensão.\n\nÉ importante que as empresas estejam atentas a essas dificuldades e implementem um programa de onboarding bem estruturado e personalizado para cada novo funcionário. Isso inclui fornecer informações claras e relevantes, oferecer suporte e orientação, promover a integração social e cultural, simplificar processos burocráticos e garantir feedback regular. Ao fazer isso, as empresas podem aumentar a probabilidade de sucesso dos novos funcionários e reter talentos a longo prazo."
          },
          "metadata": {}
        }
      ]
    },
    {
      "cell_type": "code",
      "source": [
        "# Pergunta ao Gemini uma informação utilizando a busca do Google como contexto\n",
        "\n",
        "response = client.models.generate_content(\n",
        "    model=MODEL_ID,\n",
        "    contents='Qual as principais dificuldades que novos funcnionarios de empresas de medio e grande porte encontram durante o processo de onboarding?',\n",
        "    config = {\"tools\": [{\"google_search\": {}}]}\n",
        ")\n",
        "\n",
        "# Exibe a resposta na tela\n",
        "display(Markdown(f\"Resposta:\\n {response.text}\"))"
      ],
      "metadata": {
        "id": "yXaZd7iZ4ftw",
        "colab": {
          "base_uri": "https://localhost:8080/",
          "height": 342
        },
        "outputId": "1bdfd824-ba74-4d1e-9fd9-8253bd837d3b"
      },
      "execution_count": null,
      "outputs": [
        {
          "output_type": "display_data",
          "data": {
            "text/plain": [
              "<IPython.core.display.Markdown object>"
            ],
            "text/markdown": "Resposta:\n Novos funcionários em empresas de médio e grande porte podem enfrentar diversas dificuldades durante o processo de onboarding, incluindo:\n\n*   **Sobrecarga de informação:** A quantidade excessiva de informações a serem absorvidas em um curto período pode ser difícil de processar.\n*   **Dificuldade de acesso à informação:** Sem orientação presencial, pode ser difícil encontrar as informações e os recursos necessários para realizar as tarefas.\n*   **Falta de clareza nas responsabilidades:** Sem orientações claras, os colaboradores têm dificuldade em entender o que se espera deles, o que pode levar a erros ou falta de iniciativa.\n*   **Desconexão e desinteresse:** A falta de interação social e a sobrecarga de informações podem levar à desconexão e desinteresse.\n*   **Alinhamento com a cultura organizacional:** Alinhar o onboarding com a cultura organizacional existente pode ser difícil.\n*   **Falta de integração entre departamentos:** A falta de integração entre os departamentos pode ser um obstáculo.\n*   **Engajamento:** Dificuldades em manter os novos colaboradores engajados.\n*   **Isolamento:** A comunicação virtual pode levar a mal-entendidos ou à sensação de isolamento.\n*   **Adaptação ao trabalho remoto:** A adaptação do onboarding ao trabalho remoto pode ser um desafio.\n\nUm onboarding mal estruturado pode gerar efeitos negativos, como desmotivação inicial, falta de clareza nas responsabilidades e desalinhamento cultural, o que pode levar ao aumento da rotatividade, perda de reputação e impacto na produtividade da equipe.\n\nPara superar esses desafios, as empresas podem investir em plataformas de comunicação colaborativa, promover atividades sociais virtuais e garantir feedback constante entre supervisores e novos colaboradores. Além disso, é essencial adotar estratégias que promovam a integração eficaz dos novos colaboradores, como programas de mentoria.\n"
          },
          "metadata": {}
        }
      ]
    },
    {
      "cell_type": "code",
      "source": [
        "# Exibe a busca\n",
        "print(f\"Busca realizada: {response.candidates[0].grounding_metadata.web_search_queries}\")\n",
        "# Exibe as URLs nas quais ele se baseou\n",
        "print(f\"Páginas utilizadas na resposta: {', '.join([site.web.title for site in response.candidates[0].grounding_metadata.grounding_chunks])}\")\n",
        "print()\n",
        "display(HTML(response.candidates[0].grounding_metadata.search_entry_point.rendered_content))"
      ],
      "metadata": {
        "id": "xHSNlTd84heJ",
        "colab": {
          "base_uri": "https://localhost:8080/",
          "height": 137
        },
        "outputId": "ef702296-51f7-434d-94cf-9dc77292964f"
      },
      "execution_count": null,
      "outputs": [
        {
          "output_type": "stream",
          "name": "stdout",
          "text": [
            "Busca realizada: ['primeiros meses desafios novo emprego empresa grande', 'dificuldades comuns onboarding novos funcionários empresas', 'onboarding eficaz empresas médio grande porte', 'desafios de integração novos funcionários empresas']\n",
            "Páginas utilizadas na resposta: factorialhr.pt, clickup.com, msarh.com.br, vorecol.com, psico-smart.com, humansmart.com.mx, exame.com\n",
            "\n"
          ]
        },
        {
          "output_type": "display_data",
          "data": {
            "text/plain": [
              "<IPython.core.display.HTML object>"
            ],
            "text/html": [
              "<style>\n",
              ".container {\n",
              "  align-items: center;\n",
              "  border-radius: 8px;\n",
              "  display: flex;\n",
              "  font-family: Google Sans, Roboto, sans-serif;\n",
              "  font-size: 14px;\n",
              "  line-height: 20px;\n",
              "  padding: 8px 12px;\n",
              "}\n",
              ".chip {\n",
              "  display: inline-block;\n",
              "  border: solid 1px;\n",
              "  border-radius: 16px;\n",
              "  min-width: 14px;\n",
              "  padding: 5px 16px;\n",
              "  text-align: center;\n",
              "  user-select: none;\n",
              "  margin: 0 8px;\n",
              "  -webkit-tap-highlight-color: transparent;\n",
              "}\n",
              ".carousel {\n",
              "  overflow: auto;\n",
              "  scrollbar-width: none;\n",
              "  white-space: nowrap;\n",
              "  margin-right: -12px;\n",
              "}\n",
              ".headline {\n",
              "  display: flex;\n",
              "  margin-right: 4px;\n",
              "}\n",
              ".gradient-container {\n",
              "  position: relative;\n",
              "}\n",
              ".gradient {\n",
              "  position: absolute;\n",
              "  transform: translate(3px, -9px);\n",
              "  height: 36px;\n",
              "  width: 9px;\n",
              "}\n",
              "@media (prefers-color-scheme: light) {\n",
              "  .container {\n",
              "    background-color: #fafafa;\n",
              "    box-shadow: 0 0 0 1px #0000000f;\n",
              "  }\n",
              "  .headline-label {\n",
              "    color: #1f1f1f;\n",
              "  }\n",
              "  .chip {\n",
              "    background-color: #ffffff;\n",
              "    border-color: #d2d2d2;\n",
              "    color: #5e5e5e;\n",
              "    text-decoration: none;\n",
              "  }\n",
              "  .chip:hover {\n",
              "    background-color: #f2f2f2;\n",
              "  }\n",
              "  .chip:focus {\n",
              "    background-color: #f2f2f2;\n",
              "  }\n",
              "  .chip:active {\n",
              "    background-color: #d8d8d8;\n",
              "    border-color: #b6b6b6;\n",
              "  }\n",
              "  .logo-dark {\n",
              "    display: none;\n",
              "  }\n",
              "  .gradient {\n",
              "    background: linear-gradient(90deg, #fafafa 15%, #fafafa00 100%);\n",
              "  }\n",
              "}\n",
              "@media (prefers-color-scheme: dark) {\n",
              "  .container {\n",
              "    background-color: #1f1f1f;\n",
              "    box-shadow: 0 0 0 1px #ffffff26;\n",
              "  }\n",
              "  .headline-label {\n",
              "    color: #fff;\n",
              "  }\n",
              "  .chip {\n",
              "    background-color: #2c2c2c;\n",
              "    border-color: #3c4043;\n",
              "    color: #fff;\n",
              "    text-decoration: none;\n",
              "  }\n",
              "  .chip:hover {\n",
              "    background-color: #353536;\n",
              "  }\n",
              "  .chip:focus {\n",
              "    background-color: #353536;\n",
              "  }\n",
              "  .chip:active {\n",
              "    background-color: #464849;\n",
              "    border-color: #53575b;\n",
              "  }\n",
              "  .logo-light {\n",
              "    display: none;\n",
              "  }\n",
              "  .gradient {\n",
              "    background: linear-gradient(90deg, #1f1f1f 15%, #1f1f1f00 100%);\n",
              "  }\n",
              "}\n",
              "</style>\n",
              "<div class=\"container\">\n",
              "  <div class=\"headline\">\n",
              "    <svg class=\"logo-light\" width=\"18\" height=\"18\" viewBox=\"9 9 35 35\" fill=\"none\" xmlns=\"http://www.w3.org/2000/svg\">\n",
              "      <path fill-rule=\"evenodd\" clip-rule=\"evenodd\" d=\"M42.8622 27.0064C42.8622 25.7839 42.7525 24.6084 42.5487 23.4799H26.3109V30.1568H35.5897C35.1821 32.3041 33.9596 34.1222 32.1258 35.3448V39.6864H37.7213C40.9814 36.677 42.8622 32.2571 42.8622 27.0064V27.0064Z\" fill=\"#4285F4\"/>\n",
              "      <path fill-rule=\"evenodd\" clip-rule=\"evenodd\" d=\"M26.3109 43.8555C30.9659 43.8555 34.8687 42.3195 37.7213 39.6863L32.1258 35.3447C30.5898 36.3792 28.6306 37.0061 26.3109 37.0061C21.8282 37.0061 18.0195 33.9811 16.6559 29.906H10.9194V34.3573C13.7563 39.9841 19.5712 43.8555 26.3109 43.8555V43.8555Z\" fill=\"#34A853\"/>\n",
              "      <path fill-rule=\"evenodd\" clip-rule=\"evenodd\" d=\"M16.6559 29.8904C16.3111 28.8559 16.1074 27.7588 16.1074 26.6146C16.1074 25.4704 16.3111 24.3733 16.6559 23.3388V18.8875H10.9194C9.74388 21.2072 9.06992 23.8247 9.06992 26.6146C9.06992 29.4045 9.74388 32.022 10.9194 34.3417L15.3864 30.8621L16.6559 29.8904V29.8904Z\" fill=\"#FBBC05\"/>\n",
              "      <path fill-rule=\"evenodd\" clip-rule=\"evenodd\" d=\"M26.3109 16.2386C28.85 16.2386 31.107 17.1164 32.9095 18.8091L37.8466 13.8719C34.853 11.082 30.9659 9.3736 26.3109 9.3736C19.5712 9.3736 13.7563 13.245 10.9194 18.8875L16.6559 23.3388C18.0195 19.2636 21.8282 16.2386 26.3109 16.2386V16.2386Z\" fill=\"#EA4335\"/>\n",
              "    </svg>\n",
              "    <svg class=\"logo-dark\" width=\"18\" height=\"18\" viewBox=\"0 0 48 48\" xmlns=\"http://www.w3.org/2000/svg\">\n",
              "      <circle cx=\"24\" cy=\"23\" fill=\"#FFF\" r=\"22\"/>\n",
              "      <path d=\"M33.76 34.26c2.75-2.56 4.49-6.37 4.49-11.26 0-.89-.08-1.84-.29-3H24.01v5.99h8.03c-.4 2.02-1.5 3.56-3.07 4.56v.75l3.91 2.97h.88z\" fill=\"#4285F4\"/>\n",
              "      <path d=\"M15.58 25.77A8.845 8.845 0 0 0 24 31.86c1.92 0 3.62-.46 4.97-1.31l4.79 3.71C31.14 36.7 27.65 38 24 38c-5.93 0-11.01-3.4-13.45-8.36l.17-1.01 4.06-2.85h.8z\" fill=\"#34A853\"/>\n",
              "      <path d=\"M15.59 20.21a8.864 8.864 0 0 0 0 5.58l-5.03 3.86c-.98-2-1.53-4.25-1.53-6.64 0-2.39.55-4.64 1.53-6.64l1-.22 3.81 2.98.22 1.08z\" fill=\"#FBBC05\"/>\n",
              "      <path d=\"M24 14.14c2.11 0 4.02.75 5.52 1.98l4.36-4.36C31.22 9.43 27.81 8 24 8c-5.93 0-11.01 3.4-13.45 8.36l5.03 3.85A8.86 8.86 0 0 1 24 14.14z\" fill=\"#EA4335\"/>\n",
              "    </svg>\n",
              "    <div class=\"gradient-container\"><div class=\"gradient\"></div></div>\n",
              "  </div>\n",
              "  <div class=\"carousel\">\n",
              "    <a class=\"chip\" href=\"https://vertexaisearch.cloud.google.com/grounding-api-redirect/AbF9wXEk9hqUyy4uAXLjjr4miTC8SUvbhmNVGIT1uid73H7MUpR9gGsJHWm8k8-MIuNe-xNu53Evw0Qd8PIy7o4bobtpfUXrz_E80MgfI-PfN5Td7zaIfae7fpfIAW3qRl_cVY0TBwB91uRZG0u4ldncj6nN6r6fkuWec2x8dKCZXBE9_X1QMqKp9aWlGcrvRUZCjBgrMckAZLap4iXRL5j_vUAnssWBVdM0Z8MDr4Lin3nEFPzwk6sgmls=\">primeiros meses desafios novo emprego empresa grande</a>\n",
              "    <a class=\"chip\" href=\"https://vertexaisearch.cloud.google.com/grounding-api-redirect/AbF9wXFFaRRiijfl7Qcqb3njyN9-6WzU2jIkrgeS5xQnluPck94bXyKVoYZIZDJy9c5ECaWYjP8qEeyu48ZyDKeSOrinRMVAt1JPXZDBKmGwnztbAwA-TJTzkZCykfErHrYwET5C4x5AYDf7SdsM46gX5ov3iZo2sPZuQsAomiajBR0QLyjok6ogHXR43HO6iW6I1hF85Hy-g-BXX__KD2ZNNfkUyr4w9UpKgGgvya4AOAaxcCh7p5jSlLhhCbpJAkwpZZsMn-Ek\">desafios de integração novos funcionários empresas</a>\n",
              "    <a class=\"chip\" href=\"https://vertexaisearch.cloud.google.com/grounding-api-redirect/AbF9wXEYlk31aXsSCuloHjBfTIByFZpbE4XwWEc5pRAZkoYwQgMAlc2in0DuYMmLu7Q3J60pGXho87SzZtwksL7IWxKvB2vlVeeREGzuXOejuSyYXsrtVpdSJCeIuT4_OdYimwxoWF4EuP-WfkR1jg18dnRdbRcEi1TdoYn28C7WttqqacLuX-za5SO7KhWeMbAqV97PAhMN9P-LFo8pxtlkLDgGEOD0YV_UHfXrMLrvRMPouKIWvSP9881HVrTMs6GwwR5hlw==\">dificuldades comuns onboarding novos funcionários empresas</a>\n",
              "    <a class=\"chip\" href=\"https://vertexaisearch.cloud.google.com/grounding-api-redirect/AbF9wXEJOb0PF87trTiEQWijik01jgyo6W1cNo4ykeKg0wTGkz7bahjTya1EYj7IxC_coi2Mr9Q6S31u1uBCk0m_Z3VGMTwyP7jHhuQxl57XExio6WmxB9zm2PsYQqAhsEMchAObihtCh6SMS8ntkn2OJRUP4cPReCV1B0hF6QKl_9mw_uWeUMFkWJ1_xgN4Ho-r0jZhDjQhBEESsgdSAgEov1knYWmTO-mBH1ZYgTagB_1jegpHl0hG\">onboarding eficaz empresas médio grande porte</a>\n",
              "  </div>\n",
              "</div>\n"
            ]
          },
          "metadata": {}
        }
      ]
    },
    {
      "cell_type": "code",
      "source": [
        "# Instalar Framework ADK de agentes do Google ################################################\n",
        "\n",
        "\n",
        "!pip install -q google-adk\n"
      ],
      "metadata": {
        "id": "hvZ3UnPI4jhJ",
        "colab": {
          "base_uri": "https://localhost:8080/"
        },
        "outputId": "42333f93-a60e-43b4-b4d9-4b96f805e2ec"
      },
      "execution_count": null,
      "outputs": [
        {
          "output_type": "stream",
          "name": "stdout",
          "text": [
            "\u001b[?25l   \u001b[90m━━━━━━━━━━━━━━━━━━━━━━━━━━━━━━━━━━━━━━━━\u001b[0m \u001b[32m0.0/1.2 MB\u001b[0m \u001b[31m?\u001b[0m eta \u001b[36m-:--:--\u001b[0m\r\u001b[2K   \u001b[91m━━━━━━━━━━━━━━━\u001b[0m\u001b[90m╺\u001b[0m\u001b[90m━━━━━━━━━━━━━━━━━━━━━━━━\u001b[0m \u001b[32m0.5/1.2 MB\u001b[0m \u001b[31m13.3 MB/s\u001b[0m eta \u001b[36m0:00:01\u001b[0m\r\u001b[2K   \u001b[91m━━━━━━━━━━━━━━━━━━━━━━━━━━━━━━━━━━━━━━━\u001b[0m\u001b[91m╸\u001b[0m \u001b[32m1.2/1.2 MB\u001b[0m \u001b[31m20.0 MB/s\u001b[0m eta \u001b[36m0:00:01\u001b[0m\r\u001b[2K   \u001b[90m━━━━━━━━━━━━━━━━━━━━━━━━━━━━━━━━━━━━━━━━\u001b[0m \u001b[32m1.2/1.2 MB\u001b[0m \u001b[31m14.4 MB/s\u001b[0m eta \u001b[36m0:00:00\u001b[0m\n",
            "\u001b[2K   \u001b[90m━━━━━━━━━━━━━━━━━━━━━━━━━━━━━━━━━━━━━━━━\u001b[0m \u001b[32m232.1/232.1 kB\u001b[0m \u001b[31m14.4 MB/s\u001b[0m eta \u001b[36m0:00:00\u001b[0m\n",
            "\u001b[2K   \u001b[90m━━━━━━━━━━━━━━━━━━━━━━━━━━━━━━━━━━━━━━━━\u001b[0m \u001b[32m95.2/95.2 kB\u001b[0m \u001b[31m6.1 MB/s\u001b[0m eta \u001b[36m0:00:00\u001b[0m\n",
            "\u001b[2K   \u001b[90m━━━━━━━━━━━━━━━━━━━━━━━━━━━━━━━━━━━━━━━━\u001b[0m \u001b[32m217.1/217.1 kB\u001b[0m \u001b[31m11.8 MB/s\u001b[0m eta \u001b[36m0:00:00\u001b[0m\n",
            "\u001b[2K   \u001b[90m━━━━━━━━━━━━━━━━━━━━━━━━━━━━━━━━━━━━━━━━\u001b[0m \u001b[32m334.1/334.1 kB\u001b[0m \u001b[31m16.9 MB/s\u001b[0m eta \u001b[36m0:00:00\u001b[0m\n",
            "\u001b[2K   \u001b[90m━━━━━━━━━━━━━━━━━━━━━━━━━━━━━━━━━━━━━━━━\u001b[0m \u001b[32m125.1/125.1 kB\u001b[0m \u001b[31m8.8 MB/s\u001b[0m eta \u001b[36m0:00:00\u001b[0m\n",
            "\u001b[2K   \u001b[90m━━━━━━━━━━━━━━━━━━━━━━━━━━━━━━━━━━━━━━━━\u001b[0m \u001b[32m65.8/65.8 kB\u001b[0m \u001b[31m3.9 MB/s\u001b[0m eta \u001b[36m0:00:00\u001b[0m\n",
            "\u001b[2K   \u001b[90m━━━━━━━━━━━━━━━━━━━━━━━━━━━━━━━━━━━━━━━━\u001b[0m \u001b[32m119.0/119.0 kB\u001b[0m \u001b[31m7.5 MB/s\u001b[0m eta \u001b[36m0:00:00\u001b[0m\n",
            "\u001b[2K   \u001b[90m━━━━━━━━━━━━━━━━━━━━━━━━━━━━━━━━━━━━━━━━\u001b[0m \u001b[32m194.9/194.9 kB\u001b[0m \u001b[31m9.0 MB/s\u001b[0m eta \u001b[36m0:00:00\u001b[0m\n",
            "\u001b[2K   \u001b[90m━━━━━━━━━━━━━━━━━━━━━━━━━━━━━━━━━━━━━━━━\u001b[0m \u001b[32m62.5/62.5 kB\u001b[0m \u001b[31m3.4 MB/s\u001b[0m eta \u001b[36m0:00:00\u001b[0m\n",
            "\u001b[2K   \u001b[90m━━━━━━━━━━━━━━━━━━━━━━━━━━━━━━━━━━━━━━━━\u001b[0m \u001b[32m103.3/103.3 kB\u001b[0m \u001b[31m6.7 MB/s\u001b[0m eta \u001b[36m0:00:00\u001b[0m\n",
            "\u001b[2K   \u001b[90m━━━━━━━━━━━━━━━━━━━━━━━━━━━━━━━━━━━━━━━━\u001b[0m \u001b[32m44.4/44.4 kB\u001b[0m \u001b[31m2.7 MB/s\u001b[0m eta \u001b[36m0:00:00\u001b[0m\n",
            "\u001b[2K   \u001b[90m━━━━━━━━━━━━━━━━━━━━━━━━━━━━━━━━━━━━━━━━\u001b[0m \u001b[32m72.0/72.0 kB\u001b[0m \u001b[31m4.1 MB/s\u001b[0m eta \u001b[36m0:00:00\u001b[0m\n",
            "\u001b[?25h"
          ]
        }
      ]
    },
    {
      "cell_type": "code",
      "execution_count": null,
      "metadata": {
        "id": "aePV2bdfDeoW"
      },
      "outputs": [],
      "source": [
        "from google.adk.agents import Agent\n",
        "from google.adk.runners import Runner\n",
        "from google.adk.sessions import InMemorySessionService\n",
        "from google.adk.tools import google_search\n",
        "from google.genai import types  # Para criar conteúdos (Content e Part)\n",
        "from datetime import date\n",
        "import textwrap # Para formatar melhor a saída de texto\n",
        "from IPython.display import display, Markdown # Para exibir texto formatado no Colab\n",
        "import requests # Para fazer requisições HTTP\n",
        "import warnings\n",
        "\n",
        "warnings.filterwarnings(\"ignore\")"
      ]
    },
    {
      "cell_type": "code",
      "source": [
        "# Função auxiliar que envia uma mensagem para um agente via Runner e retorna a resposta final\n",
        "def call_agent(agent: Agent, message_text: str) -> str:\n",
        "    # Cria um serviço de sessão em memória\n",
        "    session_service = InMemorySessionService()\n",
        "    # Cria uma nova sessão (você pode personalizar os IDs conforme necessário)\n",
        "    session = session_service.create_session(app_name=agent.name, user_id=\"user1\", session_id=\"session1\")\n",
        "    # Cria um Runner para o agente\n",
        "    runner = Runner(agent=agent, app_name=agent.name, session_service=session_service)\n",
        "    # Cria o conteúdo da mensagem de entrada\n",
        "    content = types.Content(role=\"user\", parts=[types.Part(text=message_text)])\n",
        "\n",
        "    final_response = \"\"\n",
        "    # Itera assincronamente pelos eventos retornados durante a execução do agente\n",
        "    for event in runner.run(user_id=\"user1\", session_id=\"session1\", new_message=content):\n",
        "        if event.is_final_response():\n",
        "          for part in event.content.parts:\n",
        "            if part.text is not None:\n",
        "              final_response += part.text\n",
        "              final_response += \"\\n\"\n",
        "    return final_response"
      ],
      "metadata": {
        "id": "_xP4lWhsS5ko"
      },
      "execution_count": null,
      "outputs": []
    },
    {
      "cell_type": "code",
      "source": [
        "# Função auxiliar para exibir texto formatado em Markdown no Colab\n",
        "def to_markdown(text):\n",
        "  text = text.replace('•', '  *')\n",
        "  return Markdown(textwrap.indent(text, '> ', predicate=lambda _: True))"
      ],
      "metadata": {
        "id": "8dosiodaxfFR"
      },
      "execution_count": null,
      "outputs": []
    },
    {
      "cell_type": "code",
      "source": [
        "##########################################\n",
        "# --- Agente 1: Boas vindas e guia  --- #\n",
        "##########################################\n",
        "def agente_receptor(onboarding_text):\n",
        "\n",
        "  receptor = Agent(\n",
        "      name=\"agente_receptor\",\n",
        "      model=\"gemini-2.0-flash\",\n",
        "      description=\"Agente que dá boas-vindas e guia o funcionário novo na empresa\",\n",
        "      instruction=f\"\"\"\n",
        "      Sua base de informacoes referentes a empresa esta no {onboarding_text}, nao crie nenhuma informação que não esteja no onboarding que seja relacionada a empresa.\n",
        "      Você é um agente virtual responsável por recepcionar um novo colaborador da empresa de forma acolhedora, informativa e personalizada.\n",
        "\n",
        "      Sua missão principal é integrar esse novo funcionário à cultura, rotina e ferramentas da empresa, guiando-o pelos primeiros passos do processo de onboarding.\n",
        "\n",
        "      ### O que você deve fazer:\n",
        "\n",
        "      1. **Dar boas-vindas personalizadas**:\n",
        "         - Cumprimente o novo colaborador de forma calorosa.\n",
        "         - Use o cargo da pessoa (que está disponível no arquivo ONBOARDING-TESTE.pdf) para tornar a recepção mais direcionada e humana.\n",
        "\n",
        "      2. **Explicar o propósito do processo de onboarding**:\n",
        "         - Informe que o onboarding tem como objetivo garantir que ele/ela entenda bem o funcionamento da empresa, suas funções e os recursos disponíveis para começar com confiança.\n",
        "\n",
        "      3. **Apresentar um panorama do processo de onboarding**:\n",
        "         - Resuma a jornada do onboarding\n",
        "\n",
        "\n",
        "      4. **Destacar os tópicos principais que serão apresentados**:\n",
        "         - Cultura e valores da empresa\n",
        "         - Estrutura organizacional (quem são os líderes, com quem ele/ela pode contar)\n",
        "         - Ferramentas e sistemas principais\n",
        "         - Documentos e treinamentos obrigatórios\n",
        "         - Etapas previstas para os primeiros dias e semanas\n",
        "\n",
        "      5. **Orientar sobre como interagir com os agentes**:\n",
        "         - Informe que basta escrever perguntas ou solicitações em linguagem natural, como:\n",
        "           “quais documentos eu preciso assinar?”\n",
        "           “me explique a política de benefícios”\n",
        "           “onde fica o refeitório?”\n",
        "         - Reforce que os agentes estão sempre disponíveis e foram desenvolvidos para facilitar essa fase inicial.\n",
        "\n",
        "      6. **Tono da comunicação**:\n",
        "         - Use uma linguagem gentil, positiva e encorajadora.\n",
        "         - Evite termos técnicos ou jargões desconhecidos.\n",
        "         - Mostre empatia e entusiasmo em ajudar.\n",
        "\n",
        "      7. **Limitações**:\n",
        "         - Caso o cargo não esteja disponível no PDF ou as informações estejam ausentes, oriente a pessoa a buscar suporte humano ou peça que entre em contato com o RH.\n",
        "         - Não invente cargos ou instruções se o documento base não fornecer essas informações, e não deixe as informações soltas ou genéricas como \"deve falar com alguém do RH\". Use nomes e dados disponíveis no ONBOARDING-TESTE.pdf.\n",
        "\n",
        "      Este agente deve funcionar como o primeiro ponto de contato no processo de onboarding.\n",
        "      \"\"\"\n",
        "  )\n",
        "\n",
        "  entrada_do_agente_receptor = \"Inicie o processo de recepção do novo colaborador conforme o guia.\"\n",
        "  resposta_do_receptor = call_agent(receptor, entrada_do_agente_receptor)\n",
        "  return resposta_do_receptor\n"
      ],
      "metadata": {
        "id": "o8bqIfi_DyH8"
      },
      "execution_count": 80,
      "outputs": []
    },
    {
      "cell_type": "code",
      "source": [
        "##########################################\n",
        "# --- Agente 2: tira duvidas sobre a empresa  --- #\n",
        "##########################################\n",
        "def agente_tira_duvidas(duvida, onboarding_text):\n",
        "\n",
        "    instrucoes = f\"\"\"\n",
        "    Você é um agente inteligente e acessível, encarregado de tirar dúvidas do novo funcionário durante seu processo de onboarding.\n",
        "\n",
        "    Seu papel é garantir que ele/ela entenda bem as informações, regras, políticas e ferramentas da empresa, mesmo que tenha dificuldades ou se sinta inseguro em algum ponto.\n",
        "\n",
        "    ### INFORMAÇÕES BASE:\n",
        "    Utilize estritamente as informações a seguir para responder às dúvidas do colaborador, com foco no conteúdo do onboarding:\n",
        "\n",
        "    {onboarding_text}\n",
        "\n",
        "    ### O que você deve fazer:\n",
        "\n",
        "    1. **Responder perguntas com base no conteúdo do onboarding**:\n",
        "      - Utilize o conteúdo disponível acima como principal base de conhecimento.\n",
        "      - Se a pergunta for sobre: funcionamento da empresa, cultura, ferramentas, horários, canais de comunicação, normas de conduta ou etapas do onboarding, responda com clareza.\n",
        "\n",
        "    2. **Dar explicações simples, claras e acolhedoras**:\n",
        "      - Use exemplos sempre que possível.\n",
        "      - Evite respostas técnicas ou frias.\n",
        "      - Se notar que a pergunta está mal formulada, tente interpretá-la e ajude com empatia.\n",
        "\n",
        "    3. **Reconhecer seus limites**:\n",
        "      - Se a pergunta estiver fora do escopo do onboarding ou não puder ser respondida com base no documento, oriente o funcionário a buscar o RH ou alguém da equipe de suporte humano.\n",
        "      - Você deve guiá-lo(a) quanto a isso com base nas informações que se encontram no texto acima, pois lá estão as informações necessárias a quem ele ou ela pode recorrer.\n",
        "\n",
        "    4. **Redirecionar para outros agentes, quando necessário**:\n",
        "      - Se a dúvida for sobre documentos específicos, diga: “Você pode pedir esse documento diretamente ao Agente de Documentos.”\n",
        "      - Se a dúvida for sobre uma parte específica do guia de onboarding, diga: “O Agente de Explicações do Guia pode te ajudar com essa parte.”\n",
        "\n",
        "    5. **Tom de comunicação**:\n",
        "      - Use linguagem gentil e encorajadora.\n",
        "      - Evite termos técnicos desnecessários.\n",
        "      - Mostre-se sempre disposto a ajudar, sem pressa.\n",
        "\n",
        "    ### Exemplo de perguntas que você pode responder:\n",
        "    - “Como faço para acessar o sistema interno?”\n",
        "    - “Qual é o horário de almoço?”\n",
        "    - “Quem é o meu supervisor?”\n",
        "    - “Quantos dias tenho para concluir o onboarding?”\n",
        "\n",
        "    ### Atenção:\n",
        "    - Nunca invente respostas.\n",
        "    - Não chute informações.\n",
        "    - Baseie-se sempre no material do onboarding ou diga que não tem essa informação, indicando o caminho mais adequado, nunca invente uma informação que não exista no texto.\n",
        "\n",
        "    Você é uma ponte entre a curiosidade e o entendimento do novo colaborador.\n",
        "    \"\"\"\n",
        "\n",
        "    planejador = Agent(\n",
        "        name=\"agente_tira_duvidas\",\n",
        "        model=\"gemini-2.0-flash\",\n",
        "        description=\"Agente responsável por tirar dúvidas gerais do novo colaborador durante o processo de onboarding.\",\n",
        "        instruction=instrucoes\n",
        "    )\n",
        "\n",
        "    entrada_do_agente_tira_duvidas = f\"Sua dúvida: {duvida}\\n\"\n",
        "    resposta_do_agente_tira_duvidas = call_agent(planejador, entrada_do_agente_tira_duvidas)\n",
        "    return resposta_do_agente_tira_duvidas\n"
      ],
      "metadata": {
        "id": "y3VO1uo5_ghO"
      },
      "execution_count": 78,
      "outputs": []
    },
    {
      "cell_type": "code",
      "source": [
        "from datetime import date\n",
        "from IPython.display import display, Markdown\n",
        "import textwrap\n",
        "\n",
        "\n",
        "def to_markdown(text):\n",
        "    text = text.replace('•', '  *')\n",
        "    return Markdown(textwrap.indent(text.strip(), '> ', predicate=lambda _: True))\n",
        "\n",
        "\n",
        "print(\"🚀 Bem-vindo(a) ao sistema de onboarding da TechNova!\\n\")\n",
        "print(\"Você será guiado por 4 agentes. Vamos começar!\\n\")\n",
        "\n",
        "\n",
        "print(\"🧑‍💼 Agente 1: Boas-vindas e Orientações Iniciais\\n\")\n",
        "resposta_recepcao = agente_receptor(onboarding_text)\n",
        "print(\"\\n--- Resposta do Agente 1 (Receptor) ---\\n\")\n",
        "display(to_markdown(resposta_recepcao))\n",
        "print(\"\\n\" + \"=\" * 60 + \"\\n\")\n",
        "\n",
        "\n",
        "print(\"🤖 Agente 2: Tira-Dúvidas\")\n",
        "print(\"Digite 'encerrado' para finalizar a conversa.\\n\")\n",
        "\n",
        "while True:\n",
        "    pergunta = input(\"✉️ Sua dúvida: \").strip()\n",
        "\n",
        "    if pergunta.lower() == \"encerrado\":\n",
        "        print(\"\\n✅ bate papo finalizado. Seja bem-vindo(a) à equipe!\\n\")\n",
        "        break\n",
        "\n",
        "    print(\"\\n📌 Sua pergunta:\")\n",
        "    display(to_markdown(f\"**Pergunta:** {pergunta}\"))\n",
        "\n",
        "    resposta_duvidas = agente_tira_duvidas(pergunta, onboarding_text)\n",
        "\n",
        "    print(\"\\n💬 Resposta do Agente 2 (Tira-Dúvidas):\\n\")\n",
        "    display(to_markdown(resposta_duvidas))\n",
        "    print(\"\\n\" + \"=\" * 60 + \"\\n\")\n"
      ],
      "metadata": {
        "id": "630ummxz4myx",
        "colab": {
          "base_uri": "https://localhost:8080/",
          "height": 1000
        },
        "outputId": "0b369baf-9761-4ef0-b473-3e4234690206"
      },
      "execution_count": 81,
      "outputs": [
        {
          "output_type": "stream",
          "name": "stdout",
          "text": [
            "🚀 Bem-vindo(a) ao sistema de onboarding da TechNova!\n",
            "\n",
            "Você será guiado por 4 agentes. Vamos começar!\n",
            "\n",
            "🧑‍💼 Agente 1: Boas-vindas e Orientações Iniciais\n",
            "\n",
            "\n",
            "--- Resposta do Agente 1 (Receptor) ---\n",
            "\n"
          ]
        },
        {
          "output_type": "display_data",
          "data": {
            "text/plain": [
              "<IPython.core.display.Markdown object>"
            ],
            "text/markdown": "> Olá! Seja muito bem-vindo(a) à TechNova! 😊 É com grande entusiasmo que te recebo como nosso(a) novo(a) Analista de Produto Pleno.\n> \n> Estou aqui para te auxiliar durante o processo de onboarding, garantindo que você se familiarize com a nossa cultura, rotina e ferramentas, para que possa iniciar suas atividades com confiança e tranquilidade.\n> \n> **Nosso objetivo:** Queremos que você se sinta em casa e tenha todas as informações necessárias para ter sucesso na TechNova desde o primeiro dia.\n> \n> **Resumo da nossa jornada:**\n> \n> *   **Cultura e valores:** Entenda o que nos move e como trabalhamos juntos.\n> *   **Estrutura:** Conheça os líderes e colegas que irão te apoiar.\n> *   **Ferramentas e sistemas:** Domine as plataformas que usamos no dia a dia.\n> *   **Documentos e treinamentos:** Fique em dia com os requisitos da empresa.\n> *   **Próximos passos:** Saiba o que esperar nos seus primeiros dias e semanas.\n> \n> **Como posso te ajudar?**\n> \n> É simples! Basta me fazer perguntas ou solicitações em linguagem natural, como:\n> \n> *   \"Quais documentos eu preciso assinar?\"\n> *   \"Me explique a política de benefícios\"\n> *   \"Onde fica o refeitório?\"\n> \n> Estou aqui para facilitar sua integração e tornar essa fase o mais agradável possível. Pode contar comigo! 😉\n> \n> Para começarmos, você gostaria de saber algo específico sobre a TechNova ou sobre o seu papel como Analista de Produto Pleno?"
          },
          "metadata": {}
        },
        {
          "output_type": "stream",
          "name": "stdout",
          "text": [
            "\n",
            "============================================================\n",
            "\n",
            "🤖 Agente 2: Tira-Dúvidas\n",
            "Digite 'encerrado' para finalizar a conversa.\n",
            "\n",
            "✉️ Sua dúvida: Qual é a missão e os valores da empresa?\n",
            "\n",
            "📌 Sua pergunta:\n"
          ]
        },
        {
          "output_type": "display_data",
          "data": {
            "text/plain": [
              "<IPython.core.display.Markdown object>"
            ],
            "text/markdown": "> **Pergunta:** Qual é a missão e os valores da empresa?"
          },
          "metadata": {}
        },
        {
          "output_type": "stream",
          "name": "stdout",
          "text": [
            "\n",
            "💬 Resposta do Agente 2 (Tira-Dúvidas):\n",
            "\n"
          ]
        },
        {
          "output_type": "display_data",
          "data": {
            "text/plain": [
              "<IPython.core.display.Markdown object>"
            ],
            "text/markdown": "> Olá! Tudo bem? 😊\n> \n> Que ótima pergunta! Saber a missão e os valores da empresa é super importante para se sentir alinhado e motivado.\n> \n> **Missão:** Transformar a forma como times colaboram, através de tecnologia acessível e centrada no usuário.\n> \n> **Valores:**\n> *   Iniciativa\n> *   Transparência\n> *   Autonomia\n> *   Aprendizado Contínuo\n> \n> Espero que isso te ajude a se sentir mais conectado com a TechNova! Se tiver mais alguma dúvida, pode perguntar! 😉"
          },
          "metadata": {}
        },
        {
          "output_type": "stream",
          "name": "stdout",
          "text": [
            "\n",
            "============================================================\n",
            "\n",
            "✉️ Sua dúvida: Onde encontro o calendário de feriados e folgas?\n",
            "\n",
            "📌 Sua pergunta:\n"
          ]
        },
        {
          "output_type": "display_data",
          "data": {
            "text/plain": [
              "<IPython.core.display.Markdown object>"
            ],
            "text/markdown": "> **Pergunta:** Onde encontro o calendário de feriados e folgas?"
          },
          "metadata": {}
        },
        {
          "output_type": "stream",
          "name": "stdout",
          "text": [
            "\n",
            "💬 Resposta do Agente 2 (Tira-Dúvidas):\n",
            "\n"
          ]
        },
        {
          "output_type": "display_data",
          "data": {
            "text/plain": [
              "<IPython.core.display.Markdown object>"
            ],
            "text/markdown": "> Olá! 😊\n> \n> Essa informação não está listada no material de onboarding.\n> \n> Recomendo que você entre em contato com o Rafael Lima (rafael.lima@technova.com.br) no RH para obter essa informação, combinado?"
          },
          "metadata": {}
        },
        {
          "output_type": "stream",
          "name": "stdout",
          "text": [
            "\n",
            "============================================================\n",
            "\n",
            "✉️ Sua dúvida: Já tenho acesso ao e-mail e ferramentas de trabalho?\n",
            "\n",
            "📌 Sua pergunta:\n"
          ]
        },
        {
          "output_type": "display_data",
          "data": {
            "text/plain": [
              "<IPython.core.display.Markdown object>"
            ],
            "text/markdown": "> **Pergunta:** Já tenho acesso ao e-mail e ferramentas de trabalho?"
          },
          "metadata": {}
        },
        {
          "output_type": "stream",
          "name": "stdout",
          "text": [
            "\n",
            "💬 Resposta do Agente 2 (Tira-Dúvidas):\n",
            "\n"
          ]
        },
        {
          "output_type": "display_data",
          "data": {
            "text/plain": [
              "<IPython.core.display.Markdown object>"
            ],
            "text/markdown": "> Que bom que você está ansioso para começar! 😊\n> \n> O acesso às ferramentas de trabalho, como Gmail e Notion, geralmente leva em torno de 24 horas após a sua solicitação. Já para acessos mais técnicos, o prazo pode ser de até 72 horas.\n> \n> Se você já fez a solicitação e o prazo já passou, e você ainda não consegue acessar, sugiro que entre em contato com o pessoal do suporte de TI. Você pode chamá-los no Slack, no canal #suporte-ti, ou enviar um e-mail para suporte@technova.com.br. 😉"
          },
          "metadata": {}
        },
        {
          "output_type": "stream",
          "name": "stdout",
          "text": [
            "\n",
            "============================================================\n",
            "\n",
            "✉️ Sua dúvida: encerrado\n",
            "\n",
            "✅ bate papo finalizado. Seja bem-vindo(a) à equipe!\n",
            "\n"
          ]
        }
      ]
    },
    {
      "cell_type": "code",
      "source": [],
      "metadata": {
        "id": "lKsDF_5iRVQA"
      },
      "execution_count": null,
      "outputs": []
    }
  ]
}